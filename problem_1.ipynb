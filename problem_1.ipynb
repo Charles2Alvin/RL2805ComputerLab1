{
 "cells": [
  {
   "cell_type": "code",
   "execution_count": 1,
   "metadata": {},
   "outputs": [],
   "source": [
    "import numpy as np\n",
    "import maze as mz \n",
    "import problem_1 as pb1"
   ]
  },
  {
   "cell_type": "markdown",
   "metadata": {},
   "source": [
    "# Problem 1: The Maze and the Random Minotaur\n",
    "\n",
    "We start first by describing the maze as a numpy array. "
   ]
  },
  {
   "cell_type": "code",
   "execution_count": 2,
   "metadata": {},
   "outputs": [],
   "source": [
    "# Description of the maze as a numpy array\n",
    "maze = np.array([\n",
    "    [0, 0, 1, 0, 0, 0, 0, 0],\n",
    "    [0, 0, 1, 0, 0, 1, 0, 0],\n",
    "    [0, 0, 1, 0, 0, 1, 1, 1],\n",
    "    [0, 0, 1, 0, 0, 1, 0, 0],\n",
    "    [0, 0, 0, 0, 0, 0, 0, 0],\n",
    "    [0, 1, 1, 1, 1, 1, 1, 0],\n",
    "    [0, 0, 0, 0, 1, 2, 0, 0]\n",
    "])\n",
    "# with the convention \n",
    "# 0 = empty cell\n",
    "# 1 = obstacle\n",
    "# 2 = exit of the Maze"
   ]
  },
  {
   "cell_type": "code",
   "execution_count": 3,
   "metadata": {},
   "outputs": [
    {
     "name": "stdout",
     "output_type": "stream",
     "text": [
      "[[[0.   0.   0.   0.   0.  ]\n",
      "  [0.25 0.25 0.   0.25 0.  ]\n",
      "  [0.   0.   0.   0.   0.  ]\n",
      "  ...\n",
      "  [0.   0.   0.   0.   0.  ]\n",
      "  [0.   0.   0.   0.   0.  ]\n",
      "  [0.   0.   0.   0.   0.  ]]\n",
      "\n",
      " [[0.   0.   0.   0.   0.  ]\n",
      "  [0.25 0.25 0.   0.25 0.  ]\n",
      "  [0.25 0.25 0.   0.25 0.  ]\n",
      "  ...\n",
      "  [0.   0.   0.   0.   0.  ]\n",
      "  [0.   0.   0.   0.   0.  ]\n",
      "  [0.   0.   0.   0.   0.  ]]\n",
      "\n",
      " [[0.   0.   0.   0.   0.  ]\n",
      "  [0.25 0.25 0.   0.25 0.  ]\n",
      "  [0.25 0.25 0.   0.25 0.  ]\n",
      "  ...\n",
      "  [0.   0.   0.   0.   0.  ]\n",
      "  [0.   0.   0.   0.   0.  ]\n",
      "  [0.   0.   0.   0.   0.  ]]\n",
      "\n",
      " ...\n",
      "\n",
      " [[0.   0.   0.   0.   0.  ]\n",
      "  [0.   0.   0.   0.   0.  ]\n",
      "  [0.   0.   0.   0.   0.  ]\n",
      "  ...\n",
      "  [0.   0.   0.   0.   0.  ]\n",
      "  [0.   0.   0.   0.   0.  ]\n",
      "  [0.   0.   0.   0.   0.  ]]\n",
      "\n",
      " [[0.   0.   0.   0.   0.  ]\n",
      "  [0.   0.   0.   0.   0.  ]\n",
      "  [0.   0.   0.   0.   0.  ]\n",
      "  ...\n",
      "  [0.   0.   0.   0.   0.  ]\n",
      "  [1.   1.   1.   1.   1.  ]\n",
      "  [0.   0.   0.   0.   0.  ]]\n",
      "\n",
      " [[1.   1.   1.   1.   1.  ]\n",
      "  [0.   0.   0.   0.   0.  ]\n",
      "  [0.   0.   0.   0.   0.  ]\n",
      "  ...\n",
      "  [1.   1.   1.   1.   1.  ]\n",
      "  [0.   0.   0.   0.   0.  ]\n",
      "  [1.   1.   1.   1.   1.  ]]]\n"
     ]
    }
   ],
   "source": [
    "# Create an environment maze\n",
    "env = mz.Maze(maze)\n",
    "print(env.transition_probabilities)"
   ]
  },
  {
   "cell_type": "code",
   "execution_count": 4,
   "metadata": {},
   "outputs": [
    {
     "name": "stdout",
     "output_type": "stream",
     "text": [
      "[[0. 0. 0. ... 0. 0. 0.]\n",
      " [4. 4. 4. ... 4. 4. 0.]\n",
      " [4. 4. 4. ... 0. 0. 0.]\n",
      " ...\n",
      " [0. 0. 0. ... 0. 0. 0.]\n",
      " [0. 0. 0. ... 0. 0. 0.]\n",
      " [0. 0. 0. ... 0. 0. 0.]]\n"
     ]
    }
   ],
   "source": [
    "# Finite horizon\n",
    "horizon = 20\n",
    "# Solve the MDP problem with dynamic programming \n",
    "V, policy = mz.dynamic_programming(env, horizon)\n",
    "print(policy)"
   ]
  },
  {
   "cell_type": "code",
   "execution_count": 5,
   "metadata": {},
   "outputs": [],
   "source": [
    "method = 'DynProg'\n",
    "start = (0, 0, 6, 5)\n",
    "start_state = env.map[start]\n",
    "path = env.simulate(start, policy, method, horizon)"
   ]
  },
  {
   "cell_type": "code",
   "execution_count": null,
   "metadata": {},
   "outputs": [
    {
     "data": {
      "image/png": "[encoded data removed]",
      "text/plain": [
       "<Figure size 576x504 with 1 Axes>"
      ]
     },
     "metadata": {},
     "output_type": "display_data"
    }
   ],
   "source": [
    "mz.animate_solution(maze, path)"
   ]
  },
  {
   "cell_type": "code",
   "execution_count": null,
   "metadata": {},
   "outputs": [],
   "source": [
    "env.draw_optimal_policy(maze, (6, 5), policy)"
   ]
  },
  {
   "cell_type": "code",
   "execution_count": null,
   "metadata": {
    "scrolled": false
   },
   "outputs": [],
   "source": [
    "prob, array = env.repeat_simulate(start, policy, 'DynProg', 100, 20)\n",
    "print(prob)"
   ]
  },
  {
   "cell_type": "code",
   "execution_count": null,
   "metadata": {},
   "outputs": [],
   "source": [
    "pb1.run()"
   ]
  },
  {
   "cell_type": "code",
   "execution_count": null,
   "metadata": {},
   "outputs": [],
   "source": []
  }
 ],
 "metadata": {
  "kernelspec": {
   "display_name": "Python 3",
   "language": "python",
   "name": "python3"
  },
  "language_info": {
   "codemirror_mode": {
    "name": "ipython",
    "version": 3
   },
   "file_extension": ".py",
   "mimetype": "text/x-python",
   "name": "python",
   "nbconvert_exporter": "python",
   "pygments_lexer": "ipython3",
   "version": "3.8.6"
  }
 },
 "nbformat": 4,
 "nbformat_minor": 4
}
