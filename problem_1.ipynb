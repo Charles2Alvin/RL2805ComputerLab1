{
 "cells": [
  {
   "cell_type": "code",
   "execution_count": 1,
   "metadata": {},
   "outputs": [],
   "source": [
    "import numpy as np\n",
    "import maze as mz \n",
    "import problem_1 as pb1"
   ]
  },
  {
   "cell_type": "markdown",
   "metadata": {},
   "source": [
    "# Problem 1: The Maze and the Random Minotaur\n",
    "\n",
    "We start first by describing the maze as a numpy array. "
   ]
  },
  {
   "cell_type": "code",
   "execution_count": 2,
   "metadata": {},
   "outputs": [],
   "source": [
    "# Description of the maze as a numpy array\n",
    "maze = np.array([\n",
    "    [0, 0, 1, 0, 0, 0, 0, 0],\n",
    "    [0, 0, 1, 0, 0, 1, 0, 0],\n",
    "    [0, 0, 1, 0, 0, 1, 1, 1],\n",
    "    [0, 0, 1, 0, 0, 1, 0, 0],\n",
    "    [0, 0, 0, 0, 0, 0, 0, 0],\n",
    "    [0, 1, 1, 1, 1, 1, 1, 0],\n",
    "    [0, 0, 0, 0, 1, 2, 0, 0]\n",
    "])\n",
    "# with the convention \n",
    "# 0 = empty cell\n",
    "# 1 = obstacle\n",
    "# 2 = exit of the Maze"
   ]
  },
  {
   "cell_type": "markdown",
   "metadata": {},
   "source": [
    "### P1.b.1. Solve the problem and illustrate an optimal policy for T = 20"
   ]
  },
  {
   "cell_type": "code",
   "execution_count": 3,
   "metadata": {},
   "outputs": [
    {
     "name": "stdout",
     "output_type": "stream",
     "text": [
      "[[0. 0. 0. ... 0. 0. 0.]\n",
      " [4. 4. 4. ... 4. 4. 0.]\n",
      " [4. 4. 4. ... 0. 0. 0.]\n",
      " ...\n",
      " [0. 0. 0. ... 0. 0. 0.]\n",
      " [0. 0. 0. ... 0. 0. 0.]\n",
      " [0. 0. 0. ... 0. 0. 0.]]\n"
     ]
    }
   ],
   "source": [
    "# Create an environment maze\n",
    "env = mz.Maze(maze, True)\n",
    "# Finite horizon\n",
    "horizon = 20\n",
    "# Solve the MDP problem with dynamic programming \n",
    "V, policy = mz.dynamic_programming(env, horizon)\n",
    "print(policy)"
   ]
  },
  {
   "cell_type": "code",
   "execution_count": 4,
   "metadata": {},
   "outputs": [
    {
     "data": {
      "image/png": "[encoded data removed]",
      "text/plain": [
       "<Figure size 576x504 with 1 Axes>"
      ]
     },
     "metadata": {},
     "output_type": "display_data"
    }
   ],
   "source": [
    "method = 'DynProg'\n",
    "start = (0, 0, 6, 5)\n",
    "path = env.simulate(start, policy, method, horizon)\n",
    "mz.animate_solution(maze, path)"
   ]
  },
  {
   "cell_type": "code",
   "execution_count": 5,
   "metadata": {},
   "outputs": [
    {
     "data": {
      "image/png": "[encoded data removed]",
      "text/plain": [
       "<Figure size 576x504 with 1 Axes>"
      ]
     },
     "metadata": {},
     "output_type": "display_data"
    }
   ],
   "source": [
    "env.draw_optimal_policy(maze, (6, 5), policy)"
   ]
  },
  {
   "cell_type": "code",
   "execution_count": 6,
   "metadata": {
    "scrolled": false
   },
   "outputs": [
    {
     "name": "stdout",
     "output_type": "stream",
     "text": [
      "0.83\n"
     ]
    }
   ],
   "source": [
    "prob, array = env.repeat_simulate(start, policy, 'DynProg', 100, 20)\n",
    "print(prob)"
   ]
  },
  {
   "cell_type": "markdown",
   "metadata": {},
   "source": [
    "### P1.b.2. Plot the maximal probability of exiting the maze as a function of T. (Assuming the minotour can stay) "
   ]
  },
  {
   "cell_type": "code",
   "execution_count": 7,
   "metadata": {},
   "outputs": [
    {
     "name": "stdout",
     "output_type": "stream",
     "text": [
      "Completed simulation for T = 15, obtained exit prob = 0.720\n",
      "Completed simulation for T = 18, obtained exit prob = 0.860\n",
      "Completed simulation for T = 21, obtained exit prob = 0.880\n",
      "Completed simulation for T = 24, obtained exit prob = 0.960\n",
      "Completed simulation for T = 27, obtained exit prob = 0.950\n",
      "Completed simulation for T = 30, obtained exit prob = 0.970\n",
      "Completed simulation for T = 33, obtained exit prob = 0.990\n",
      "Completed simulation for T = 36, obtained exit prob = 0.990\n"
     ]
    },
    {
     "data": {
      "image/png": "[encoded data removed]",
      "text/plain": [
       "<Figure size 432x288 with 1 Axes>"
      ]
     },
     "metadata": {
      "needs_background": "light"
     },
     "output_type": "display_data"
    }
   ],
   "source": [
    "from matplotlib import pyplot as plt\n",
    "N = 100\n",
    "exit_prob = []\n",
    "horizons = [i for i in range(15, 37, 3)]\n",
    "\n",
    "for horizon in horizons:\n",
    "    # Create an environment maze\n",
    "    env = mz.Maze(maze, True)\n",
    "\n",
    "    # Solve the MDP problem with dynamic programming\n",
    "    V, policy = mz.dynamic_programming(env, horizon)\n",
    "\n",
    "    # Repeat the simulation for N times\n",
    "    prob, exit_time = env.repeat_simulate(start, policy, method, N)\n",
    "\n",
    "    exit_prob.append(prob)\n",
    "\n",
    "    print(\"Completed simulation for T = %s, obtained exit prob = %.3f\" % (horizon, prob))\n",
    "\n",
    "plt.plot(horizons, exit_prob)\n",
    "plt.xlabel(\"Time horizon\")\n",
    "plt.ylabel(\"Escape probability\")\n",
    "plt.show()"
   ]
  },
  {
   "cell_type": "markdown",
   "metadata": {},
   "source": [
    "### P1.b.3. Plot the maximal probability of exiting the maze as a function of T. (Assuming the minotour can not stay) "
   ]
  },
  {
   "cell_type": "code",
   "execution_count": 8,
   "metadata": {},
   "outputs": [
    {
     "name": "stdout",
     "output_type": "stream",
     "text": [
      "[[0. 0. 0. ... 0. 0. 0.]\n",
      " [2. 2. 2. ... 2. 2. 0.]\n",
      " [0. 0. 0. ... 0. 0. 0.]\n",
      " ...\n",
      " [0. 0. 0. ... 0. 0. 0.]\n",
      " [0. 0. 0. ... 0. 0. 0.]\n",
      " [0. 0. 0. ... 0. 0. 0.]]\n"
     ]
    }
   ],
   "source": [
    "# Create an environment maze\n",
    "env = mz.Maze(maze, False)\n",
    "# Finite horizon\n",
    "horizon = 20\n",
    "# Solve the MDP problem with dynamic programming \n",
    "V, policy = mz.dynamic_programming(env, horizon)\n",
    "print(policy)"
   ]
  },
  {
   "cell_type": "code",
   "execution_count": 9,
   "metadata": {},
   "outputs": [],
   "source": [
    "method = 'DynProg'\n",
    "start = (0, 0, 6, 5)"
   ]
  },
  {
   "cell_type": "code",
   "execution_count": 10,
   "metadata": {},
   "outputs": [
    {
     "name": "stdout",
     "output_type": "stream",
     "text": [
      "Completed simulation for T = 15, obtained exit prob = 1.000\n",
      "Completed simulation for T = 18, obtained exit prob = 1.000\n",
      "Completed simulation for T = 21, obtained exit prob = 1.000\n",
      "Completed simulation for T = 24, obtained exit prob = 1.000\n",
      "Completed simulation for T = 27, obtained exit prob = 1.000\n",
      "Completed simulation for T = 30, obtained exit prob = 1.000\n",
      "Completed simulation for T = 33, obtained exit prob = 1.000\n",
      "Completed simulation for T = 36, obtained exit prob = 1.000\n"
     ]
    },
    {
     "data": {
      "image/png": "[encoded data removed]",
      "text/plain": [
       "<Figure size 432x288 with 1 Axes>"
      ]
     },
     "metadata": {
      "needs_background": "light"
     },
     "output_type": "display_data"
    }
   ],
   "source": [
    "N = 100\n",
    "exit_prob = []\n",
    "horizons = [i for i in range(15, 37, 3)]\n",
    "for horizon in horizons:\n",
    "    # Create an environment maze\n",
    "    env = mz.Maze(maze, False)\n",
    "\n",
    "    # Solve the MDP problem with dynamic programming\n",
    "    V, policy = mz.dynamic_programming(env, horizon)\n",
    "\n",
    "    # Repeat the simulation for N times\n",
    "    prob, exit_time = env.repeat_simulate(start, policy, method, N)\n",
    "\n",
    "    exit_prob.append(prob)\n",
    "\n",
    "    print(\"Completed simulation for T = %s, obtained exit prob = %.3f\" % (horizon, prob))\n",
    "    \n",
    "plt.plot(horizons, exit_prob)\n",
    "plt.xlabel(\"Time horizon\")\n",
    "plt.ylabel(\"Escape probability\")\n",
    "plt.show()"
   ]
  },
  {
   "cell_type": "markdown",
   "metadata": {},
   "source": [
    "### 1.b.3 Estimate the probability of getting out alive using this policy by simulating 10 000 games."
   ]
  },
  {
   "cell_type": "code",
   "execution_count": 11,
   "metadata": {},
   "outputs": [],
   "source": [
    "### Assume now that your life is geometrically distributed with mean 30. \n",
    "# Modify the problem so as to derive a policy minimizing the expected time to exit the maze. \n",
    "# Motivate your new problem formulation. "
   ]
  },
  {
   "cell_type": "code",
   "execution_count": 12,
   "metadata": {},
   "outputs": [
    {
     "name": "stdout",
     "output_type": "stream",
     "text": [
      "Maximal probability of getting out alive: 1.0\n"
     ]
    }
   ],
   "source": [
    "env = mz.Maze(maze, False)\n",
    "\n",
    "gamma = 29 / 30\n",
    "epsilon = 0.0001\n",
    "# Solve the MDP problem with dynamic programming\n",
    "V, policy = mz.value_iteration(env, gamma, epsilon)\n",
    "\n",
    "# Repeat the simulation for N times\n",
    "N = 10000\n",
    "method = 'ValIter'\n",
    "prob, exit_time = env.repeat_simulate(start, policy, method, N)\n",
    "print(\"Maximal probability of getting out alive:\", prob)"
   ]
  }
 ],
 "metadata": {
  "kernelspec": {
   "display_name": "Python 3",
   "language": "python",
   "name": "python3"
  },
  "language_info": {
   "codemirror_mode": {
    "name": "ipython",
    "version": 3
   },
   "file_extension": ".py",
   "mimetype": "text/x-python",
   "name": "python",
   "nbconvert_exporter": "python",
   "pygments_lexer": "ipython3",
   "version": "3.8.6"
  }
 },
 "nbformat": 4,
 "nbformat_minor": 4
}
